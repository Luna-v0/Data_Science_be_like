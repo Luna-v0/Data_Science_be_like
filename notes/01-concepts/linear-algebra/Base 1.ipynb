{
 "cells": [
  {
   "cell_type": "markdown",
   "id": "570e81a9",
   "metadata": {},
   "source": [
    "# Definition\n",
    "\n",
    "# Intuition\n",
    "Why does this matter? What's the big picture?\n",
    "\n",
    "# Mathematical Formulation\n",
    "Use Typst syntax for math:\n",
    "\n",
    "$bold(x) in RR^n$\n",
    "\n",
    "$$\n",
    "f(x) = sum_(i=1)^n w_i x_i + b\n",
    "$$\n",
    "\n",
    "# Properties\n",
    "- Property 1\n",
    "- Property 2\n",
    "\n",
    "# Implementation Notes\n",
    "[[code/notebooks/related-notebook.ipynb]]\n",
    "\n",
    "# Related Concepts\n",
    "- [[concept-1]]\n",
    "- [[concept-2]]\n",
    "\n",
    "# References\n",
    "- Source 1\n",
    "- Source 2"
   ]
  },
  {
   "cell_type": "markdown",
   "id": "661fe52a",
   "metadata": {},
   "source": []
  }
 ],
 "metadata": {
  "jupytext": {
   "cell_metadata_filter": "-all",
   "formats": "ipynb,md",
   "main_language": "python"
  },
  "language_info": {
   "name": "python"
  }
 },
 "nbformat": 4,
 "nbformat_minor": 5
}
