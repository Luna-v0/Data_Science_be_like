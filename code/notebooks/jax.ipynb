{
 "cells": [
  {
   "cell_type": "markdown",
   "id": "ab38fb27-6ae8-4263-81b6-f5da682ac93a",
   "metadata": {},
   "source": [
    "# Jax basics\n",
    "\n",
    "This is a specific notebook for me to learn [JAX](https://docs.jax.dev/en/latest/notebooks/thinking_in_jax.html)"
   ]
  },
  {
   "cell_type": "code",
   "execution_count": 1,
   "id": "fffa0a23-4e20-4993-ab03-5c4ef3baba9c",
   "metadata": {},
   "outputs": [],
   "source": [
    "import jax.numpy as jnp\n",
    "import matplotlib.pyplot as plt\n",
    "import numpy as np"
   ]
  },
  {
   "cell_type": "code",
   "execution_count": 18,
   "id": "d9ad0a3a-afc9-409a-a047-4d1977ab6f47",
   "metadata": {},
   "outputs": [],
   "source": [
    "from jax import make_jaxpr, jit, grad, jacobian, jacfwd, jacrev, hessian, random\n",
    "\n",
    "from functools import partial"
   ]
  },
  {
   "cell_type": "markdown",
   "id": "a1fa472d-788a-4869-84f9-c74dbd163798",
   "metadata": {},
   "source": [
    "Jax cannot set items from array directly, must use `at[num].set`"
   ]
  },
  {
   "cell_type": "code",
   "execution_count": 3,
   "id": "9deaf93c-8a3c-4470-8d22-eafc37468b22",
   "metadata": {},
   "outputs": [
    {
     "data": {
      "text/plain": [
       "array([10,  1,  2,  3,  4,  5,  6,  7,  8,  9])"
      ]
     },
     "execution_count": 3,
     "metadata": {},
     "output_type": "execute_result"
    }
   ],
   "source": [
    "# In numpy\n",
    "x = np.arange(10)\n",
    "x[0] = 10\n",
    "x"
   ]
  },
  {
   "cell_type": "code",
   "execution_count": 4,
   "id": "189268fe-966f-4fb1-9c3e-a8aad8895afa",
   "metadata": {},
   "outputs": [
    {
     "data": {
      "text/plain": [
       "Array([10,  1,  2,  3,  4,  5,  6,  7,  8,  9], dtype=int32)"
      ]
     },
     "execution_count": 4,
     "metadata": {},
     "output_type": "execute_result"
    }
   ],
   "source": [
    "# In Jax\n",
    "y = jnp.arange(10)\n",
    "y.at[0].set(10)"
   ]
  },
  {
   "cell_type": "code",
   "execution_count": 5,
   "id": "6e55ffb9-a47c-4207-854e-be048b9053db",
   "metadata": {},
   "outputs": [
    {
     "data": {
      "text/plain": [
       "({CudaDevice(id=0)},\n",
       " SingleDeviceSharding(device=CudaDevice(id=0), memory_kind=device))"
      ]
     },
     "execution_count": 5,
     "metadata": {},
     "output_type": "execute_result"
    }
   ],
   "source": [
    "y.devices(), y.sharding"
   ]
  },
  {
   "cell_type": "markdown",
   "id": "1a3bb739-3320-4d93-9eba-c833111f32f4",
   "metadata": {},
   "source": [
    "Jax performance against numpy"
   ]
  },
  {
   "cell_type": "code",
   "execution_count": 6,
   "id": "7615357c-2d76-4fc0-93c1-f9c77068b9a3",
   "metadata": {},
   "outputs": [],
   "source": [
    "def norm(X):\n",
    "    X = X - X.mean(0)\n",
    "    return X / X.std(0)\n",
    "\n",
    "acc_norm = jit(norm)\n",
    "np.random.seed(42)\n",
    "\n",
    "X = jnp.array(np.random.rand(10000,10))"
   ]
  },
  {
   "cell_type": "code",
   "execution_count": 7,
   "id": "eca366fe-7444-4132-8fd0-54db743ad284",
   "metadata": {},
   "outputs": [
    {
     "name": "stdout",
     "output_type": "stream",
     "text": [
      "CPU times: user 111 ms, sys: 8.85 ms, total: 120 ms\n",
      "Wall time: 597 ms\n"
     ]
    }
   ],
   "source": [
    "%%time\n",
    "res_np = norm(X)"
   ]
  },
  {
   "cell_type": "code",
   "execution_count": 8,
   "id": "096812be-74be-4f13-8c5e-a04b9f39e0a2",
   "metadata": {},
   "outputs": [
    {
     "name": "stdout",
     "output_type": "stream",
     "text": [
      "CPU times: user 61.4 ms, sys: 1.36 ms, total: 62.7 ms\n",
      "Wall time: 94.4 ms\n"
     ]
    }
   ],
   "source": [
    "%%time \n",
    "res_jax = acc_norm(X)"
   ]
  },
  {
   "cell_type": "code",
   "execution_count": 9,
   "id": "681afbb2-bd78-4b3a-a743-5f1bb7b61156",
   "metadata": {},
   "outputs": [
    {
     "data": {
      "text/plain": [
       "True"
      ]
     },
     "execution_count": 9,
     "metadata": {},
     "output_type": "execute_result"
    }
   ],
   "source": [
    "np.allclose(res_np,res_jax,atol=1E-6)"
   ]
  },
  {
   "cell_type": "code",
   "execution_count": 10,
   "id": "d5489ebc-326c-4ea4-bbb1-bbe23c76d0c9",
   "metadata": {},
   "outputs": [
    {
     "name": "stdout",
     "output_type": "stream",
     "text": [
      "93.2 μs ± 1 μs per loop (mean ± std. dev. of 7 runs, 10,000 loops each)\n",
      "34.9 μs ± 696 ns per loop (mean ± std. dev. of 7 runs, 10,000 loops each)\n"
     ]
    }
   ],
   "source": [
    "%timeit norm(X).block_until_ready()\n",
    "%timeit acc_norm(X).block_until_ready()"
   ]
  },
  {
   "cell_type": "markdown",
   "id": "e0db292c-2fb6-47b5-bff2-61204e493163",
   "metadata": {},
   "source": [
    "First time the function is called it trigger the compilation of the function, and it only compiles JAX code, so prints are not compiled to JAX and therefore not showned the second time the function runs. `make_jaxpr` shows the underlying code of the function\n",
    "\n",
    "Note that you cannot create conditional functions or with changing size. Only using partial you can make it, but results on re-compilation."
   ]
  },
  {
   "cell_type": "code",
   "execution_count": 11,
   "id": "0b87b382-5696-4a62-b117-1ea3c8288282",
   "metadata": {},
   "outputs": [
    {
     "name": "stdout",
     "output_type": "stream",
     "text": [
      "Running f():\n",
      "  x = Traced<float32[3,4]>with<DynamicJaxprTrace>\n",
      "  y = Traced<float32[4]>with<DynamicJaxprTrace>\n",
      "  result = Traced<float32[3]>with<DynamicJaxprTrace>\n"
     ]
    },
    {
     "data": {
      "text/plain": [
       "Array([ 0.02217698,  4.49119   , -0.18381482], dtype=float32)"
      ]
     },
     "execution_count": 11,
     "metadata": {},
     "output_type": "execute_result"
    }
   ],
   "source": [
    "@jit\n",
    "def f(x, y):\n",
    "  print(\"Running f():\")\n",
    "  print(f\"  {x = }\")\n",
    "  print(f\"  {y = }\")\n",
    "  result = jnp.dot(x + 1, y + 1)\n",
    "  print(f\"  {result = }\")\n",
    "  return result\n",
    "\n",
    "x = np.random.randn(3, 4)\n",
    "y = np.random.randn(4)\n",
    "f(x, y)"
   ]
  },
  {
   "cell_type": "code",
   "execution_count": 12,
   "id": "878391f3-9a97-47fe-8b3e-3519ef86522e",
   "metadata": {},
   "outputs": [
    {
     "data": {
      "text/plain": [
       "Array([4.6115603, 6.641762 , 6.2128515], dtype=float32)"
      ]
     },
     "execution_count": 12,
     "metadata": {},
     "output_type": "execute_result"
    }
   ],
   "source": [
    "x2 = np.random.randn(3, 4)\n",
    "y2 = np.random.randn(4)\n",
    "f(x2, y2)"
   ]
  },
  {
   "cell_type": "code",
   "execution_count": 13,
   "id": "a321f2b0-d59b-4b2b-85e1-6412bcc3c36b",
   "metadata": {},
   "outputs": [
    {
     "data": {
      "text/plain": [
       "{ \u001b[34;1mlambda \u001b[39;22m; a\u001b[35m:f32[3,4]\u001b[39m b\u001b[35m:f32[4]\u001b[39m. \u001b[34;1mlet\n",
       "    \u001b[39;22mc\u001b[35m:f32[3]\u001b[39m = pjit[\n",
       "      name=f\n",
       "      jaxpr={ \u001b[34;1mlambda \u001b[39;22m; a\u001b[35m:f32[3,4]\u001b[39m b\u001b[35m:f32[4]\u001b[39m. \u001b[34;1mlet\n",
       "          \u001b[39;22md\u001b[35m:f32[3,4]\u001b[39m = add a 1.0:f32[]\n",
       "          e\u001b[35m:f32[4]\u001b[39m = add b 1.0:f32[]\n",
       "          c\u001b[35m:f32[3]\u001b[39m = dot_general[\n",
       "            dimension_numbers=(([1], [0]), ([], []))\n",
       "            preferred_element_type=float32\n",
       "          ] d e\n",
       "        \u001b[34;1min \u001b[39;22m(c,) }\n",
       "    ] a b\n",
       "  \u001b[34;1min \u001b[39;22m(c,) }"
      ]
     },
     "execution_count": 13,
     "metadata": {},
     "output_type": "execute_result"
    }
   ],
   "source": [
    "make_jaxpr(f)(x,y)"
   ]
  },
  {
   "cell_type": "code",
   "execution_count": 14,
   "id": "382fd28f-25e1-418e-93b9-047651cc6f4d",
   "metadata": {},
   "outputs": [
    {
     "data": {
      "text/plain": [
       "Array(-1, dtype=int32, weak_type=True)"
      ]
     },
     "execution_count": 14,
     "metadata": {},
     "output_type": "execute_result"
    }
   ],
   "source": [
    "@partial(jit, static_argnums=(1,))\n",
    "def f(x, neg):\n",
    "  return -x if neg else x\n",
    "\n",
    "f(1, True)"
   ]
  },
  {
   "cell_type": "markdown",
   "id": "0d622f63-df03-42a5-871a-28fcfb20037f",
   "metadata": {},
   "source": [
    "# Jax auto gradient"
   ]
  },
  {
   "cell_type": "code",
   "execution_count": 15,
   "id": "6a3cc8ab-fde8-4e87-af81-5e740271e0af",
   "metadata": {},
   "outputs": [
    {
     "name": "stdout",
     "output_type": "stream",
     "text": [
      "[0.25       0.19661194 0.10499357]\n"
     ]
    }
   ],
   "source": [
    "def sum_logistic(x):\n",
    "  return jnp.sum(1.0 / (1.0 + jnp.exp(-x)))\n",
    "\n",
    "x_small = jnp.arange(3.)\n",
    "derivative_fn = grad(sum_logistic)\n",
    "print(derivative_fn(x_small))"
   ]
  },
  {
   "cell_type": "markdown",
   "id": "d51b5d2e-1ea9-40d5-b852-fd22ddd44873",
   "metadata": {},
   "source": [
    "You can mix and match `grad` with `jit`, the `grad` works similarly to [autograd](https://github.com/HIPS/autograd)"
   ]
  },
  {
   "cell_type": "code",
   "execution_count": 16,
   "id": "965d12c4-ceea-40db-9547-25c4bdd88bc4",
   "metadata": {},
   "outputs": [
    {
     "name": "stdout",
     "output_type": "stream",
     "text": [
      "-0.0353256\n"
     ]
    }
   ],
   "source": [
    "print(grad(jit(grad(jit(grad(sum_logistic)))))(1.0))"
   ]
  },
  {
   "cell_type": "markdown",
   "id": "0eaba4c4-f567-4705-bef8-249e9da198bf",
   "metadata": {},
   "source": [
    "Jax has multiple variation of the jacobian, like `jacobian`, `jacrev`, `jacfwd`, etc. You can also use the `hessian`"
   ]
  },
  {
   "cell_type": "code",
   "execution_count": 19,
   "id": "83d9337c-09c3-41e9-9cd9-52dc2c39df46",
   "metadata": {},
   "outputs": [
    {
     "data": {
      "text/plain": [
       "Array([[1.       , 0.       , 0.       ],\n",
       "       [0.       , 2.7182817, 0.       ],\n",
       "       [0.       , 0.       , 7.389056 ]], dtype=float32)"
      ]
     },
     "execution_count": 19,
     "metadata": {},
     "output_type": "execute_result"
    }
   ],
   "source": [
    "jacobian(jnp.exp)(x_small)"
   ]
  },
  {
   "cell_type": "code",
   "execution_count": 21,
   "id": "a8c540f8-e449-4c4d-bb90-7efd8c7cf382",
   "metadata": {},
   "outputs": [
    {
     "data": {
      "text/plain": [
       "True"
      ]
     },
     "execution_count": 21,
     "metadata": {},
     "output_type": "execute_result"
    }
   ],
   "source": [
    "def hessian_m(fun):\n",
    "    return jit(jacfwd(jacrev(fun)))\n",
    "\n",
    "np.allclose(hessian_m(sum_logistic)(x_small),hessian(sum_logistic)(x_small), atol=1E-6)"
   ]
  },
  {
   "cell_type": "markdown",
   "id": "5102ac2b-8e77-40a8-886a-39b203c61a88",
   "metadata": {},
   "source": [
    "Just like "
   ]
  },
  {
   "cell_type": "code",
   "execution_count": null,
   "id": "15d80d8c-e326-4e9f-8d82-dba2a517b8b1",
   "metadata": {},
   "outputs": [],
   "source": [
    "key = random.key(1701)\n",
    "key1, key2 = random.split(key)\n",
    "mat = random.normal(key1, (150,100))\n",
    "batched_x = random.normal(key2, (10,100))\n",
    "\n",
    "def apply_matrix(x):\n",
    "    return jnp.dot(mat,x)"
   ]
  },
  {
   "cell_type": "code",
   "execution_count": null,
   "id": "09bb1c93-abfe-4346-9f9f-e250385a3052",
   "metadata": {},
   "outputs": [],
   "source": [
    "def v1_batch_apply(v_batched):\n",
    "    return jnp.stack([[apply_matrix(v) for v in v_batched]])\n",
    "\n",
    "def v2_batch_apply(v_batched):\n",
    "    return \n"
   ]
  }
 ],
 "metadata": {
  "jupytext": {
   "formats": "ipynb,md"
  },
  "kernelspec": {
   "display_name": "Python 3 (ipykernel)",
   "language": "python",
   "name": "python3"
  },
  "language_info": {
   "codemirror_mode": {
    "name": "ipython",
    "version": 3
   },
   "file_extension": ".py",
   "mimetype": "text/x-python",
   "name": "python",
   "nbconvert_exporter": "python",
   "pygments_lexer": "ipython3",
   "version": "3.10.17"
  }
 },
 "nbformat": 4,
 "nbformat_minor": 5
}
