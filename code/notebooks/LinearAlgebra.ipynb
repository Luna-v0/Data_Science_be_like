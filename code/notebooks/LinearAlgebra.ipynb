{
 "cells": [
  {
   "cell_type": "markdown",
   "id": "2527e183-5581-42f4-ae38-577c4d96f7ba",
   "metadata": {},
   "source": [
    "# Linear Algebra\n",
    "This notebook is focusing in the linear algebra series from the website [Linear Algebra for Programmers](https://www.linearalgebraforprogrammers.com) that is focused on the computational aspect of linear algebra, but with a twist, using numpy.\n"
   ]
  },
  {
   "cell_type": "code",
   "execution_count": 1,
   "id": "30c2e12b-131a-4048-9c07-d9ec5723a368",
   "metadata": {},
   "outputs": [],
   "source": [
    "import numpy as np\n",
    "from matplotlib import pyplot as plt\n",
    "import seaborn as sns\n",
    "import scipy as sp"
   ]
  },
  {
   "cell_type": "markdown",
   "id": "d785ce70-a279-4307-9fe4-ece99051d497",
   "metadata": {},
   "source": [
    "## 0) A simple reminder of how to do simple Matrix Multiplication\n",
    "\n",
    "[Link](https://www.linearalgebraforprogrammers.com/la/0_intro)"
   ]
  },
  {
   "cell_type": "code",
   "execution_count": 2,
   "id": "31c8affd-1770-4b26-b8fa-48a7edb13425",
   "metadata": {},
   "outputs": [
    {
     "data": {
      "text/plain": [
       "([array([30, 36, 42]), array([66, 81, 96]), array([102, 126, 150])],\n",
       " array([[ 30,  36,  42],\n",
       "        [ 66,  81,  96],\n",
       "        [102, 126, 150]]))"
      ]
     },
     "execution_count": 2,
     "metadata": {},
     "output_type": "execute_result"
    }
   ],
   "source": [
    "def vector_matrix_prod(matrix: np.array, vect:np.array):\n",
    "    #final_v = []\n",
    "    #for row_vec in matrix:\n",
    "    #    final_v.append([row_vec*vi for vi in vector])\n",
    "        \n",
    "    #return np.array(final_v)\n",
    "    return vect @ matrix\n",
    "    \n",
    "def matrix_prod(left_matrix, right_matrix):\n",
    "    return [\n",
    "        vector_matrix_prod(left_matrix, column_vector)\n",
    "        for column_vector in right_matrix\n",
    "    ]\n",
    "\n",
    "m1 = np.arange(1,10).reshape(3,3)\n",
    "m2 = m1[::-1][::-1]\n",
    "\n",
    "matrix_prod(m1,m2), m1 @ m2"
   ]
  },
  {
   "cell_type": "markdown",
   "id": "05595e47-f37c-4877-8f50-fafc235fd6d7",
   "metadata": {},
   "source": [
    "## 1) Weighted sums\n",
    "\n",
    "They can be used to model different stuff, like array indexing, probability, rotation, polynomials, and matrix-vector multiplication.\n",
    "\n",
    "[Link](https://www.linearalgebraforprogrammers.com/la/1_weighted_means)"
   ]
  },
  {
   "cell_type": "code",
   "execution_count": 3,
   "id": "aa6e0cfe-3b31-409f-8962-f5f971527039",
   "metadata": {},
   "outputs": [
    {
     "data": {
      "text/plain": [
       "np.int64(24)"
      ]
     },
     "execution_count": 3,
     "metadata": {},
     "output_type": "execute_result"
    }
   ],
   "source": [
    "def scale_func(values:np.array,weights:np.array):\n",
    "    return values * weights\n",
    "\n",
    "def add_func(results:np.array):\n",
    "    return np.sum(results)\n",
    "\n",
    "def weighted_sums(values:np.array, weights:np.array, *, scale_function=scale_func, add_function=add_func):\n",
    "    return add_function(scale_function(values,weights))\n",
    "\n",
    "\n",
    "v = np.array([2,2,2,2])\n",
    "u = np.array([3,3,3,3])\n",
    "\n",
    "weighted_sums(u,v)"
   ]
  },
  {
   "cell_type": "code",
   "execution_count": 4,
   "id": "6b07d988-1b39-4c5a-ac83-a45f79ab5e96",
   "metadata": {},
   "outputs": [
    {
     "data": {
      "text/plain": [
       "np.int64(5)"
      ]
     },
     "execution_count": 4,
     "metadata": {},
     "output_type": "execute_result"
    }
   ],
   "source": [
    "# Tropical Weighted sum https://en.wikipedia.org/wiki/Tropical_geometry\n",
    "def tropical_scale(values:np.array,weights:np.array):\n",
    "    return values + weights\n",
    "\n",
    "def tropical_add(results:np.array):\n",
    "    return np.max(results)\n",
    "\n",
    "weighted_sums(u,v,scale_function=tropical_scale, add_function=tropical_add)"
   ]
  },
  {
   "cell_type": "code",
   "execution_count": 5,
   "id": "e7d4df7f-3dca-4977-b495-369e11554d45",
   "metadata": {},
   "outputs": [
    {
     "data": {
      "text/plain": [
       "array([24., 24., 24., 24.])"
      ]
     },
     "execution_count": 5,
     "metadata": {},
     "output_type": "execute_result"
    }
   ],
   "source": [
    "# Multi dimensional weighted sums\n",
    "\n",
    "def scale_arr(arrays:np.array, weights:np.array):\n",
    "    return np.array([array*weights for array in arrays])\n",
    "\n",
    "def add_arr(arrays:np.array):\n",
    "    result = np.zeros(arrays[0].size)\n",
    "    for arr in arrays:\n",
    "        result += arr\n",
    "    return result\n",
    "        \n",
    "um = np.full((4,4), 3)\n",
    "\n",
    "weighted_sums(um,v,scale_function=scale_arr, add_function=add_arr)"
   ]
  },
  {
   "cell_type": "markdown",
   "id": "da588a34-00f8-400f-976c-338aaf6cc63f",
   "metadata": {},
   "source": [
    "## 2 & 3) Vectors, and Matrixes as functions\n",
    "\n",
    "\n",
    "\n",
    "[Link](https://www.linearalgebraforprogrammers.com/la/2_spacewalk)"
   ]
  },
  {
   "cell_type": "code",
   "execution_count": 6,
   "id": "490ce16a-0a1e-46d7-865f-4e14f60928c3",
   "metadata": {},
   "outputs": [
    {
     "data": {
      "text/plain": [
       "np.float64(2.0)"
      ]
     },
     "execution_count": 6,
     "metadata": {},
     "output_type": "execute_result"
    }
   ],
   "source": [
    "# Euclidian distance\n",
    "\n",
    "def distance(x:np.array, y:np.array):\n",
    "    return np.linalg.norm(x-y)\n",
    "\n",
    "distance(u,v)"
   ]
  },
  {
   "cell_type": "code",
   "execution_count": 7,
   "id": "195774b3-82d7-4ed4-b8ed-0feaa93764dc",
   "metadata": {},
   "outputs": [
    {
     "data": {
      "text/plain": [
       "array([-1.6, -2. ])"
      ]
     },
     "execution_count": 7,
     "metadata": {},
     "output_type": "execute_result"
    }
   ],
   "source": [
    "m = np.array([[0.5,-0.5],[-0.8,-1]])\n",
    "\n",
    "np.array([0,2]) @ m"
   ]
  },
  {
   "cell_type": "markdown",
   "id": "72949786-736f-4caa-a3a9-7b3c47334f43",
   "metadata": {},
   "source": [
    "## 4) Rank and reversibility\n",
    "\n",
    "Ranks and linear independent components are useful to determine if a matrix is inversible.\n",
    "\n",
    "[Link](https://www.linearalgebraforprogrammers.com/la/4_rank_and_reversibility)"
   ]
  },
  {
   "cell_type": "code",
   "execution_count": 9,
   "id": "07c8ec48-668b-4f39-8004-559b1437f222",
   "metadata": {},
   "outputs": [
    {
     "data": {
      "text/plain": [
       "False"
      ]
     },
     "execution_count": 9,
     "metadata": {},
     "output_type": "execute_result"
    }
   ],
   "source": [
    "def equivallent_vec(v1:np.array, v2:np.array):\n",
    "    return len(np.unique(v1/v2)) == 1\n",
    "\n",
    "equivallent_vec(u,v)\n",
    "temp = v.copy()\n",
    "temp[0] = 10\n",
    "equivallent_vec(u,temp)"
   ]
  },
  {
   "cell_type": "code",
   "execution_count": 25,
   "id": "d3fc3490-d86a-42d7-afcf-3b323abfda73",
   "metadata": {},
   "outputs": [
    {
     "data": {
      "text/plain": [
       "(np.int64(1), np.int64(3), np.int64(3))"
      ]
     },
     "execution_count": 25,
     "metadata": {},
     "output_type": "execute_result"
    }
   ],
   "source": [
    "rank1 = np.linalg.matrix_rank(um)\n",
    "rank2 = np.linalg.matrix_rank(np.eye(3))\n",
    "rank3 = np.linalg.matrix_rank(np.random.random((3,4)))\n",
    "\n",
    "rank1, rank2, rank3"
   ]
  },
  {
   "cell_type": "markdown",
   "id": "70ca5bac-986b-4640-8ce1-76b7def8e5cd",
   "metadata": {},
   "source": [
    "## Barycentric\n",
    "\n",
    "Useful to find if a point is inside a polygon\n",
    "\n",
    "\n",
    "[Link](https://www.linearalgebraforprogrammers.com/la/5_barycentric_coordinates)"
   ]
  },
  {
   "cell_type": "code",
   "execution_count": 34,
   "id": "982b9a2f-a701-4c37-aca5-b2cc79e0fd66",
   "metadata": {},
   "outputs": [
    {
     "data": {
      "text/plain": [
       "np.False_"
      ]
     },
     "execution_count": 34,
     "metadata": {},
     "output_type": "execute_result"
    }
   ],
   "source": [
    "\n",
    "\n",
    "def is_point_in_triangle(vertices:np.array,point:np.array):\n",
    "    # centralize one vector into (0,0)\n",
    "    # compute the inverse matrix of the centrilized vertices (except the origin)\n",
    "    # validate the weights\n",
    "    centralizer = vertices[0]\n",
    "    vertices = vertices - centralizer\n",
    "    point = point - centralizer\n",
    "\n",
    "    inverse = np.linalg.inv(vertices[1:])\n",
    "    weights = point @ inverse\n",
    "    return np.all(weights > 0) and np.sum(weights) <= 1\n",
    "\n",
    "is_point_in_triangle(np.array([[3,0],[2,3],[-4,-2]]), np.array([10,10]))    "
   ]
  }
 ],
 "metadata": {
  "kernelspec": {
   "display_name": "Python 3 (ipykernel)",
   "language": "python",
   "name": "python3"
  },
  "language_info": {
   "codemirror_mode": {
    "name": "ipython",
    "version": 3
   },
   "file_extension": ".py",
   "mimetype": "text/x-python",
   "name": "python",
   "nbconvert_exporter": "python",
   "pygments_lexer": "ipython3",
   "version": "3.10.17"
  }
 },
 "nbformat": 4,
 "nbformat_minor": 5
}
